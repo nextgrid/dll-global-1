{
 "cells": [
  {
   "cell_type": "markdown",
   "metadata": {},
   "source": [
    "# LSTM pipeline"
   ]
  },
  {
   "cell_type": "code",
   "execution_count": 1,
   "metadata": {},
   "outputs": [],
   "source": [
    "import io\n",
    "import itertools\n",
    "import warnings\n",
    "from typing import Tuple\n",
    "\n",
    "import matplotlib.pyplot as plt\n",
    "import numpy as np\n",
    "import pandas as pd\n",
    "import requests\n",
    "import torch\n",
    "import torch.nn.functional as F\n",
    "from torch import nn, optim\n",
    "from torch.utils.data import DataLoader, Dataset\n",
    "from tqdm import tqdm\n",
    "\n",
    "warnings.filterwarnings(\"ignore\")"
   ]
  },
  {
   "cell_type": "code",
   "execution_count": 2,
   "metadata": {},
   "outputs": [
    {
     "data": {
      "text/html": [
       "<div>\n",
       "<style scoped>\n",
       "    .dataframe tbody tr th:only-of-type {\n",
       "        vertical-align: middle;\n",
       "    }\n",
       "\n",
       "    .dataframe tbody tr th {\n",
       "        vertical-align: top;\n",
       "    }\n",
       "\n",
       "    .dataframe thead th {\n",
       "        text-align: right;\n",
       "    }\n",
       "</style>\n",
       "<table border=\"1\" class=\"dataframe\">\n",
       "  <thead>\n",
       "    <tr style=\"text-align: right;\">\n",
       "      <th></th>\n",
       "      <th>cases</th>\n",
       "      <th>deaths</th>\n",
       "      <th>popData2018</th>\n",
       "      <th>GDP (current US$)</th>\n",
       "      <th>GDP per capita (current US$)</th>\n",
       "      <th>Access to electricity (% of population)</th>\n",
       "      <th>Current health expenditure per capita (current US$)</th>\n",
       "      <th>Current health expenditure (% of GDP)</th>\n",
       "      <th>Hospital beds (per 1,000 people)</th>\n",
       "    </tr>\n",
       "  </thead>\n",
       "  <tbody>\n",
       "    <tr>\n",
       "      <th>count</th>\n",
       "      <td>9626.000000</td>\n",
       "      <td>9626.000000</td>\n",
       "      <td>9.607000e+03</td>\n",
       "      <td>9.390000e+03</td>\n",
       "      <td>9390.000000</td>\n",
       "      <td>9440.000000</td>\n",
       "      <td>8966.000000</td>\n",
       "      <td>8966.000000</td>\n",
       "      <td>9185.000000</td>\n",
       "    </tr>\n",
       "    <tr>\n",
       "      <th>mean</th>\n",
       "      <td>153.346354</td>\n",
       "      <td>9.122065</td>\n",
       "      <td>6.361825e+07</td>\n",
       "      <td>8.430790e+11</td>\n",
       "      <td>25128.295292</td>\n",
       "      <td>92.970108</td>\n",
       "      <td>1788.721743</td>\n",
       "      <td>6.865349</td>\n",
       "      <td>3.473547</td>\n",
       "    </tr>\n",
       "    <tr>\n",
       "      <th>std</th>\n",
       "      <td>1190.172484</td>\n",
       "      <td>75.314339</td>\n",
       "      <td>2.001526e+08</td>\n",
       "      <td>2.608225e+12</td>\n",
       "      <td>30322.567348</td>\n",
       "      <td>17.922541</td>\n",
       "      <td>2287.713332</td>\n",
       "      <td>2.773843</td>\n",
       "      <td>2.852989</td>\n",
       "    </tr>\n",
       "    <tr>\n",
       "      <th>min</th>\n",
       "      <td>0.000000</td>\n",
       "      <td>0.000000</td>\n",
       "      <td>1.000000e+03</td>\n",
       "      <td>4.222968e+08</td>\n",
       "      <td>271.752044</td>\n",
       "      <td>9.300000</td>\n",
       "      <td>19.431646</td>\n",
       "      <td>1.181210</td>\n",
       "      <td>0.100000</td>\n",
       "    </tr>\n",
       "    <tr>\n",
       "      <th>25%</th>\n",
       "      <td>0.000000</td>\n",
       "      <td>0.000000</td>\n",
       "      <td>3.731000e+06</td>\n",
       "      <td>2.454247e+10</td>\n",
       "      <td>4114.715061</td>\n",
       "      <td>99.506447</td>\n",
       "      <td>204.492249</td>\n",
       "      <td>4.748105</td>\n",
       "      <td>1.500000</td>\n",
       "    </tr>\n",
       "    <tr>\n",
       "      <th>50%</th>\n",
       "      <td>0.000000</td>\n",
       "      <td>0.000000</td>\n",
       "      <td>1.062570e+07</td>\n",
       "      <td>1.406454e+11</td>\n",
       "      <td>11373.233003</td>\n",
       "      <td>100.000000</td>\n",
       "      <td>587.646301</td>\n",
       "      <td>6.541954</td>\n",
       "      <td>2.800000</td>\n",
       "    </tr>\n",
       "    <tr>\n",
       "      <th>75%</th>\n",
       "      <td>14.000000</td>\n",
       "      <td>0.000000</td>\n",
       "      <td>4.222843e+07</td>\n",
       "      <td>4.549676e+11</td>\n",
       "      <td>41715.029284</td>\n",
       "      <td>100.000000</td>\n",
       "      <td>2840.130615</td>\n",
       "      <td>8.873130</td>\n",
       "      <td>4.600000</td>\n",
       "    </tr>\n",
       "    <tr>\n",
       "      <th>max</th>\n",
       "      <td>34272.000000</td>\n",
       "      <td>2004.000000</td>\n",
       "      <td>1.392730e+09</td>\n",
       "      <td>2.054434e+13</td>\n",
       "      <td>185741.279992</td>\n",
       "      <td>100.000000</td>\n",
       "      <td>10246.138672</td>\n",
       "      <td>17.061269</td>\n",
       "      <td>18.680000</td>\n",
       "    </tr>\n",
       "  </tbody>\n",
       "</table>\n",
       "</div>"
      ],
      "text/plain": [
       "              cases       deaths   popData2018  GDP (current US$)  \\\n",
       "count   9626.000000  9626.000000  9.607000e+03       9.390000e+03   \n",
       "mean     153.346354     9.122065  6.361825e+07       8.430790e+11   \n",
       "std     1190.172484    75.314339  2.001526e+08       2.608225e+12   \n",
       "min        0.000000     0.000000  1.000000e+03       4.222968e+08   \n",
       "25%        0.000000     0.000000  3.731000e+06       2.454247e+10   \n",
       "50%        0.000000     0.000000  1.062570e+07       1.406454e+11   \n",
       "75%       14.000000     0.000000  4.222843e+07       4.549676e+11   \n",
       "max    34272.000000  2004.000000  1.392730e+09       2.054434e+13   \n",
       "\n",
       "       GDP per capita (current US$)  Access to electricity (% of population)  \\\n",
       "count                   9390.000000                              9440.000000   \n",
       "mean                   25128.295292                                92.970108   \n",
       "std                    30322.567348                                17.922541   \n",
       "min                      271.752044                                 9.300000   \n",
       "25%                     4114.715061                                99.506447   \n",
       "50%                    11373.233003                               100.000000   \n",
       "75%                    41715.029284                               100.000000   \n",
       "max                   185741.279992                               100.000000   \n",
       "\n",
       "       Current health expenditure per capita (current US$)  \\\n",
       "count                                        8966.000000     \n",
       "mean                                         1788.721743     \n",
       "std                                          2287.713332     \n",
       "min                                            19.431646     \n",
       "25%                                           204.492249     \n",
       "50%                                           587.646301     \n",
       "75%                                          2840.130615     \n",
       "max                                         10246.138672     \n",
       "\n",
       "       Current health expenditure (% of GDP)  Hospital beds (per 1,000 people)  \n",
       "count                            8966.000000                       9185.000000  \n",
       "mean                                6.865349                          3.473547  \n",
       "std                                 2.773843                          2.852989  \n",
       "min                                 1.181210                          0.100000  \n",
       "25%                                 4.748105                          1.500000  \n",
       "50%                                 6.541954                          2.800000  \n",
       "75%                                 8.873130                          4.600000  \n",
       "max                                17.061269                         18.680000  "
      ]
     },
     "execution_count": 2,
     "metadata": {},
     "output_type": "execute_result"
    }
   ],
   "source": [
    "def get_train_test_sets(csv_path: str = \"DLL_COVID_TRAIN.csv\",forcast_days: int = 7) -> Tuple[pd.DataFrame, pd.DataFrame]:\n",
    "    dataset = pd.read_csv(csv_path, parse_dates=[\"dateRep\"])\n",
    "    dataset = dataset.sort_values(\"dateRep\")\n",
    "\n",
    "    split_date = dataset[\"dateRep\"].max() - np.timedelta64(forcast_days, \"D\")\n",
    "    train_df = dataset.loc[dataset[\"dateRep\"] < split_date]\n",
    "    test_df = dataset.loc[dataset[\"dateRep\"] >= split_date]\n",
    "    return train_df, test_df\n",
    "\n",
    "\n",
    "train_df, test_df = get_train_test_sets()\n",
    "train_df.describe()"
   ]
  },
  {
   "cell_type": "code",
   "execution_count": 3,
   "metadata": {},
   "outputs": [
    {
     "data": {
      "text/plain": [
       "countryterritoryCode                                     0\n",
       "dateRep                                                  0\n",
       "cases                                                    0\n",
       "deaths                                                   0\n",
       "countriesAndTerritories                                  0\n",
       "popData2018                                             19\n",
       "GDP (current US$)                                      236\n",
       "GDP per capita (current US$)                           236\n",
       "Access to electricity (% of population)                186\n",
       "Current health expenditure per capita (current US$)    660\n",
       "Current health expenditure (% of GDP)                  660\n",
       "Hospital beds (per 1,000 people)                       441\n",
       "dtype: int64"
      ]
     },
     "execution_count": 3,
     "metadata": {},
     "output_type": "execute_result"
    }
   ],
   "source": [
    "train_df.isna().sum(axis=0)"
   ]
  },
  {
   "cell_type": "code",
   "execution_count": 4,
   "metadata": {},
   "outputs": [
    {
     "data": {
      "text/plain": [
       "countryterritoryCode                                   0\n",
       "dateRep                                                0\n",
       "cases                                                  0\n",
       "deaths                                                 0\n",
       "countriesAndTerritories                                0\n",
       "popData2018                                            0\n",
       "GDP (current US$)                                      0\n",
       "GDP per capita (current US$)                           0\n",
       "Access to electricity (% of population)                0\n",
       "Current health expenditure per capita (current US$)    0\n",
       "Current health expenditure (% of GDP)                  0\n",
       "Hospital beds (per 1,000 people)                       0\n",
       "dtype: int64"
      ]
     },
     "metadata": {},
     "output_type": "display_data"
    }
   ],
   "source": [
    "def fill_na(\n",
    "    train: pd.DataFrame, test: pd.DataFrame\n",
    ") -> Tuple[pd.DataFrame, pd.DataFrame]:\n",
    "    train = train.fillna(0)\n",
    "    test = test.fillna(0)\n",
    "    return train, test\n",
    "\n",
    "\n",
    "train_df, test_df = fill_na(train_df, test_df)\n",
    "display(train_df.isna().sum(axis=0))"
   ]
  },
  {
   "cell_type": "code",
   "execution_count": 5,
   "metadata": {},
   "outputs": [],
   "source": [
    "country = \"Italy\"\n",
    "\n",
    "train_one_country = train_df[train_df[\"countriesAndTerritories\"] == country]\n",
    "test_one_country = test_df[test_df[\"countriesAndTerritories\"] == country]\n",
    "\n",
    "\n",
    "def add_last_cases_deaths(df: pd.DataFrame) -> pd.DataFrame:\n",
    "    df[\"last_cases\"] = df[\"cases\"].shift(1)\n",
    "    df[\"last_cases\"] = df[\"last_cases\"].fillna(0)\n",
    "    df[\"last_deaths\"] = df[\"deaths\"].shift(1)\n",
    "    df[\"last_deaths\"] = df[\"last_deaths\"].fillna(0)\n",
    "    return df\n",
    "\n",
    "\n",
    "train_one_country = add_last_cases_deaths(train_one_country)"
   ]
  },
  {
   "cell_type": "code",
   "execution_count": 6,
   "metadata": {},
   "outputs": [],
   "source": [
    "class train_dataset(Dataset):\n",
    "    def __init__(self, df: pd.DataFrame, length: int = 7):\n",
    "        self.df = df.copy().drop(\n",
    "            columns=[\"countryterritoryCode\", \"countriesAndTerritories\"]\n",
    "        )\n",
    "        self.label_columns = [\"cases\", \"deaths\"]\n",
    "        self.length = length\n",
    "\n",
    "    def __len__(self):\n",
    "        return len(self.df) - self.length + 1\n",
    "\n",
    "    def __getitem__(self, idx):\n",
    "        sample = self.df.iloc[idx : idx + self.length]\n",
    "\n",
    "        cases = torch.tensor(sample.pop(\"cases\").to_numpy()).float()\n",
    "        deaths = torch.tensor(sample.pop(\"deaths\").to_numpy()).float()\n",
    "\n",
    "        date = sample.pop(\"dateRep\")\n",
    "        sample = torch.tensor(sample[\"last_cases\"].to_numpy()).float()\n",
    "        return sample, cases, deaths\n",
    "\n",
    "\n",
    "def MSLE_loss(one, two):\n",
    "    loss = torch.mean((torch.log1p(one) - torch.log1p(two)) ** 2)  # MSLE loss\n",
    "    return loss\n",
    "\n",
    "\n",
    "class LSTM(nn.Module):\n",
    "    def __init__(self, input_size: int, hidden_size: int):\n",
    "        super().__init__()\n",
    "        self.hidden_size = hidden_size\n",
    "        self.lstm = nn.LSTMCell(input_size=input_size, hidden_size=hidden_size)\n",
    "        self.fc1 = nn.Linear(hidden_size, 32)\n",
    "        self.fc2 = nn.Linear(32, 1)\n",
    "\n",
    "    def forward(self, x: torch.tensor, future: int = 0):\n",
    "\n",
    "        outputs = []\n",
    "        h_t = torch.zeros(x.size(0), self.hidden_size, dtype=torch.float)\n",
    "        c_t = torch.zeros(x.size(0), self.hidden_size, dtype=torch.float)\n",
    "\n",
    "        for i, input_t in enumerate(x.chunk(x.size(1), dim=1)):\n",
    "            # input_t = input_t.squeeze()\n",
    "            h_t, c_t = self.lstm(input_t, (h_t, c_t))\n",
    "            output = self.fc1(h_t)\n",
    "            output = torch.exp(self.fc2(output))\n",
    "            outputs += [output]\n",
    "\n",
    "        # outputs = [output]\n",
    "\n",
    "        for i in range(future):  # if we should predict the future\n",
    "            h_t, c_t = self.lstm(output, (h_t, c_t))\n",
    "            output = self.fc1(h_t)\n",
    "            output = torch.exp(self.fc2(output))\n",
    "            outputs += [output]\n",
    "\n",
    "        outputs = torch.stack(outputs, 1).squeeze(2)\n",
    "        return outputs\n",
    "\n",
    "\n",
    "def train_model(dataset: Dataset, model: nn.Module, epochs: int = 60, batch_size=120):\n",
    "    optimizer = optim.Adam(model.parameters(), lr=3e-3)\n",
    "    dataloader = DataLoader(dataset, batch_size=batch_size, shuffle=True)\n",
    "\n",
    "    for epoch in range(epochs):\n",
    "        for x, cases, deaths in dataloader:\n",
    "            model.zero_grad()\n",
    "            cases_pred = model(x)\n",
    "            loss = MSLE_loss(cases_pred, cases)\n",
    "            loss.backward()\n",
    "            optimizer.step()\n"
   ]
  },
  {
   "cell_type": "code",
   "execution_count": 7,
   "metadata": {},
   "outputs": [],
   "source": [
    "input_size = 1\n",
    "hidden_size = 100\n",
    "\n",
    "\n",
    "lstm = LSTM(input_size=input_size, hidden_size=hidden_size)\n",
    "train_ds = train_dataset(train_one_country)\n",
    "train_model(train_ds, lstm)"
   ]
  },
  {
   "cell_type": "markdown",
   "metadata": {},
   "source": [
    "### Make one week prediciton based on the last 10 days"
   ]
  },
  {
   "cell_type": "code",
   "execution_count": 8,
   "metadata": {},
   "outputs": [
    {
     "data": {
      "text/plain": [
       "tensor([[5217., 4050., 4053., 4782., 4668., 4585., 4805., 4316., 3599., 3039.]])"
      ]
     },
     "execution_count": 8,
     "metadata": {},
     "output_type": "execute_result"
    }
   ],
   "source": [
    "train_ds = train_dataset(train_one_country, length=10)\n",
    "last_idx = len(train_ds) - 1\n",
    "features, _, _ = train_ds[last_idx]\n",
    "features = features.unsqueeze(0)\n",
    "features"
   ]
  },
  {
   "cell_type": "code",
   "execution_count": 9,
   "metadata": {},
   "outputs": [
    {
     "data": {
      "text/plain": [
       "tensor([4072.9946, 4080.4517, 4080.4592, 4080.4592, 4080.4592, 4080.4592,\n",
       "        4080.4592, 4080.4592])"
      ]
     },
     "execution_count": 9,
     "metadata": {},
     "output_type": "execute_result"
    }
   ],
   "source": [
    "next_predictions = lstm.forward(features, 7)[0][-8:].detach()\n",
    "next_predictions"
   ]
  },
  {
   "cell_type": "code",
   "execution_count": 10,
   "metadata": {},
   "outputs": [
    {
     "data": {
      "text/plain": [
       "<matplotlib.legend.Legend at 0x7fd5e4071210>"
      ]
     },
     "execution_count": 10,
     "metadata": {},
     "output_type": "execute_result"
    },
    {
     "data": {
      "image/png": "[encoded data removed]",
      "text/plain": [
       "<Figure size 432x288 with 1 Axes>"
      ]
     },
     "metadata": {
      "needs_background": "light"
     },
     "output_type": "display_data"
    }
   ],
   "source": [
    "plt.plot(next_predictions, label=\"Predictions\")\n",
    "plt.plot(test_one_country[\"cases\"].tolist(), label=\"Ground truth\")\n",
    "plt.legend()"
   ]
  }
 ],
 "metadata": {
  "kernelspec": {
   "display_name": "Python 3",
   "language": "python",
   "name": "python3"
  },
  "language_info": {
   "codemirror_mode": {
    "name": "ipython",
    "version": 3
   },
   "file_extension": ".py",
   "mimetype": "text/x-python",
   "name": "python",
   "nbconvert_exporter": "python",
   "pygments_lexer": "ipython3",
   "version": "3.7.5"
  }
 },
 "nbformat": 4,
 "nbformat_minor": 4
}
